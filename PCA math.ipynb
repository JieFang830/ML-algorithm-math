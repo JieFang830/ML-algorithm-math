{
 "cells": [
  {
   "cell_type": "markdown",
   "metadata": {},
   "source": [
    "normalize X to zero mean\n",
    "\n",
    "calculate covariance matrix Σ\n",
    "\n",
    "find [orthonormal] eigenvectors of Σ"
   ]
  },
  {
   "cell_type": "markdown",
   "metadata": {},
   "source": [
    "Av=ev  ==> e eigenvalue/ v eigenvector"
   ]
  },
  {
   "cell_type": "code",
   "execution_count": 1,
   "metadata": {},
   "outputs": [],
   "source": [
    "import numpy as np"
   ]
  },
  {
   "cell_type": "code",
   "execution_count": 29,
   "metadata": {},
   "outputs": [],
   "source": [
    "X=np.array([[1,2,3,4,5,6,7,777,7],[2,3,4,3,2,2,444,56,9]])"
   ]
  },
  {
   "cell_type": "code",
   "execution_count": 30,
   "metadata": {},
   "outputs": [
    {
     "data": {
      "text/plain": [
       "array([[  1,   2,   3,   4,   5,   6,   7, 777,   7],\n",
       "       [  2,   3,   4,   3,   2,   2, 444,  56,   9]])"
      ]
     },
     "execution_count": 30,
     "metadata": {},
     "output_type": "execute_result"
    }
   ],
   "source": [
    "X"
   ]
  },
  {
   "cell_type": "code",
   "execution_count": 31,
   "metadata": {},
   "outputs": [],
   "source": [
    "mu = X.mean(axis=0)"
   ]
  },
  {
   "cell_type": "code",
   "execution_count": 32,
   "metadata": {},
   "outputs": [
    {
     "data": {
      "text/plain": [
       "array([  1.5,   2.5,   3.5,   3.5,   3.5,   4. , 225.5, 416.5,   8. ])"
      ]
     },
     "execution_count": 32,
     "metadata": {},
     "output_type": "execute_result"
    }
   ],
   "source": [
    "mu"
   ]
  },
  {
   "cell_type": "code",
   "execution_count": 33,
   "metadata": {},
   "outputs": [],
   "source": [
    "X = X - mu"
   ]
  },
  {
   "cell_type": "code",
   "execution_count": 38,
   "metadata": {},
   "outputs": [
    {
     "data": {
      "text/plain": [
       "(2, 9)"
      ]
     },
     "execution_count": 38,
     "metadata": {},
     "output_type": "execute_result"
    }
   ],
   "source": [
    "X.shape"
   ]
  },
  {
   "cell_type": "code",
   "execution_count": 35,
   "metadata": {},
   "outputs": [],
   "source": [
    "sigma = X.T @ X##np.dot(X.T, X)"
   ]
  },
  {
   "cell_type": "code",
   "execution_count": 37,
   "metadata": {},
   "outputs": [
    {
     "data": {
      "text/plain": [
       "(9, 9)"
      ]
     },
     "execution_count": 37,
     "metadata": {},
     "output_type": "execute_result"
    }
   ],
   "source": [
    "sigma.shape"
   ]
  },
  {
   "cell_type": "code",
   "execution_count": 39,
   "metadata": {},
   "outputs": [],
   "source": [
    "eigvals, eigvecs = np.linalg.eig(sigma)"
   ]
  },
  {
   "cell_type": "code",
   "execution_count": 40,
   "metadata": {},
   "outputs": [
    {
     "data": {
      "text/plain": [
       "array([ 0.00000000e+00+0.00000000e+00j,  3.55421500e+05+0.00000000e+00j,\n",
       "       -4.45868211e-15+0.00000000e+00j,  6.81780334e-24+0.00000000e+00j,\n",
       "        1.15311657e-29+5.92795516e-30j,  1.15311657e-29-5.92795516e-30j,\n",
       "       -8.87753291e-30+0.00000000e+00j,  3.96610756e-31+0.00000000e+00j,\n",
       "        1.85585912e-46+0.00000000e+00j])"
      ]
     },
     "execution_count": 40,
     "metadata": {},
     "output_type": "execute_result"
    }
   ],
   "source": [
    "eigvals"
   ]
  },
  {
   "cell_type": "code",
   "execution_count": 41,
   "metadata": {},
   "outputs": [
    {
     "data": {
      "text/plain": [
       "(9,)"
      ]
     },
     "execution_count": 41,
     "metadata": {},
     "output_type": "execute_result"
    }
   ],
   "source": [
    "eigvals.shape"
   ]
  },
  {
   "cell_type": "code",
   "execution_count": 42,
   "metadata": {
    "scrolled": true
   },
   "outputs": [
    {
     "data": {
      "text/plain": [
       "array([[-9.99999297e-01+0.00000000e+00j, -1.18607774e-03+0.00000000e+00j,\n",
       "        -3.71058342e-04+0.00000000e+00j, -3.70542309e-04+0.00000000e+00j,\n",
       "         3.45313631e-01-1.84379736e-01j,  3.45313631e-01+1.84379736e-01j,\n",
       "         3.68655697e-01+0.00000000e+00j,  5.44549734e-01+0.00000000e+00j,\n",
       "        -9.99999297e-01+0.00000000e+00j],\n",
       "       [ 1.40678139e-06+0.00000000e+00j, -1.18607774e-03+0.00000000e+00j,\n",
       "        -3.71058343e-04+0.00000000e+00j,  5.21839770e-10+0.00000000e+00j,\n",
       "        -4.85781132e-07+2.59382164e-07j, -4.85781132e-07-2.59382164e-07j,\n",
       "        -5.18618339e-07+0.00000000e+00j, -7.66062970e-07+0.00000000e+00j,\n",
       "         1.40678139e-06+0.00000000e+00j],\n",
       "       [ 1.40678139e-06+0.00000000e+00j, -1.18607774e-03+0.00000000e+00j,\n",
       "        -3.71058342e-04+0.00000000e+00j, -3.71030160e-04+0.00000000e+00j,\n",
       "         7.06404896e-01+0.00000000e+00j,  7.06404896e-01-0.00000000e+00j,\n",
       "        -3.69404801e-01+0.00000000e+00j,  2.65584476e-02+0.00000000e+00j,\n",
       "         1.40678139e-06+0.00000000e+00j],\n",
       "       [-1.40678139e-06+0.00000000e+00j,  1.18607774e-03+0.00000000e+00j,\n",
       "         3.71058342e-04+0.00000000e+00j,  3.71030160e-04+0.00000000e+00j,\n",
       "        -1.39129740e-01+2.35697535e-01j, -1.39129740e-01-2.35697535e-01j,\n",
       "         5.63140493e-01+0.00000000e+00j, -2.41249527e-02+0.00000000e+00j,\n",
       "        -1.40678139e-06+0.00000000e+00j],\n",
       "       [-4.22034417e-06+0.00000000e+00j,  3.55823321e-03+0.00000000e+00j,\n",
       "        -2.25398394e-02+0.00000000e+00j, -2.25378639e-02+0.00000000e+00j,\n",
       "         4.27056949e-01-2.52444980e-01j,  4.27056949e-01+2.52444980e-01j,\n",
       "         6.19343614e-01+0.00000000e+00j,  4.06641926e-02+0.00000000e+00j,\n",
       "        -4.22034417e-06+0.00000000e+00j],\n",
       "       [-5.62712556e-06+0.00000000e+00j,  4.74431095e-03+0.00000000e+00j,\n",
       "         1.48423337e-03+0.00000000e+00j,  1.48412064e-03+0.00000000e+00j,\n",
       "         1.13233441e-01-4.81159747e-02j,  1.13233441e-01+4.81159747e-02j,\n",
       "         1.33026820e-01+0.00000000e+00j,  7.48430617e-01+0.00000000e+00j,\n",
       "        -5.62712553e-06+0.00000000e+00j],\n",
       "       [ 6.14763467e-04+0.00000000e+00j, -5.18315971e-01+0.00000000e+00j,\n",
       "         8.54927124e-01+0.00000000e+00j,  8.54926997e-01+0.00000000e+00j,\n",
       "         7.54929130e-02+8.45800114e-03j,  7.54929130e-02-8.45800114e-03j,\n",
       "        -5.72629394e-02+0.00000000e+00j,  1.74060261e-02+0.00000000e+00j,\n",
       "         6.14763467e-04+0.00000000e+00j],\n",
       "       [-1.01428938e-03+0.00000000e+00j,  8.55162049e-01+0.00000000e+00j,\n",
       "         5.18255017e-01+0.00000000e+00j,  5.18255448e-01+0.00000000e+00j,\n",
       "         4.48459261e-02+5.92785617e-03j,  4.48459261e-02-5.92785617e-03j,\n",
       "        -3.89888482e-02+0.00000000e+00j,  6.01597799e-03+0.00000000e+00j,\n",
       "        -1.01428938e-03+0.00000000e+00j],\n",
       "       [ 2.81356278e-06+0.00000000e+00j, -2.37215548e-03+0.00000000e+00j,\n",
       "        -7.42116684e-04+0.00000000e+00j, -7.42060320e-04+0.00000000e+00j,\n",
       "        -5.66167203e-02+2.40579874e-02j, -5.66167203e-02-2.40579874e-02j,\n",
       "        -6.65134101e-02+0.00000000e+00j, -3.74215308e-01+0.00000000e+00j,\n",
       "         2.81356284e-06+0.00000000e+00j]])"
      ]
     },
     "execution_count": 42,
     "metadata": {},
     "output_type": "execute_result"
    }
   ],
   "source": [
    "eigvecs"
   ]
  },
  {
   "cell_type": "code",
   "execution_count": 44,
   "metadata": {},
   "outputs": [
    {
     "data": {
      "text/plain": [
       "(9, 9)"
      ]
     },
     "execution_count": 44,
     "metadata": {},
     "output_type": "execute_result"
    }
   ],
   "source": [
    "eigvecs.shape"
   ]
  },
  {
   "cell_type": "code",
   "execution_count": 45,
   "metadata": {},
   "outputs": [],
   "source": [
    "order = np.argsort(eigvals)[::-1]"
   ]
  },
  {
   "cell_type": "code",
   "execution_count": 46,
   "metadata": {},
   "outputs": [
    {
     "data": {
      "text/plain": [
       "array([1, 3, 4, 5, 7, 8, 0, 6, 2], dtype=int64)"
      ]
     },
     "execution_count": 46,
     "metadata": {},
     "output_type": "execute_result"
    }
   ],
   "source": [
    "order"
   ]
  },
  {
   "cell_type": "code",
   "execution_count": 47,
   "metadata": {},
   "outputs": [],
   "source": [
    "components = eigvecs[:, order[:2]]"
   ]
  },
  {
   "cell_type": "code",
   "execution_count": 48,
   "metadata": {},
   "outputs": [
    {
     "data": {
      "text/plain": [
       "array([[-1.18607774e-03+0.j, -3.70542309e-04+0.j],\n",
       "       [-1.18607774e-03+0.j,  5.21839770e-10+0.j],\n",
       "       [-1.18607774e-03+0.j, -3.71030160e-04+0.j],\n",
       "       [ 1.18607774e-03+0.j,  3.71030160e-04+0.j],\n",
       "       [ 3.55823321e-03+0.j, -2.25378639e-02+0.j],\n",
       "       [ 4.74431095e-03+0.j,  1.48412064e-03+0.j],\n",
       "       [-5.18315971e-01+0.j,  8.54926997e-01+0.j],\n",
       "       [ 8.55162049e-01+0.j,  5.18255448e-01+0.j],\n",
       "       [-2.37215548e-03+0.j, -7.42060320e-04+0.j]])"
      ]
     },
     "execution_count": 48,
     "metadata": {},
     "output_type": "execute_result"
    }
   ],
   "source": [
    "components"
   ]
  },
  {
   "cell_type": "code",
   "execution_count": 49,
   "metadata": {},
   "outputs": [],
   "source": [
    "# projection\n",
    "Z = X @ components"
   ]
  },
  {
   "cell_type": "code",
   "execution_count": 50,
   "metadata": {},
   "outputs": [
    {
     "data": {
      "text/plain": [
       "array([[ 4.21557529e+02+0.j, -1.18251763e-14+0.j],\n",
       "       [-4.21557529e+02+0.j,  1.18251763e-14+0.j]])"
      ]
     },
     "execution_count": 50,
     "metadata": {},
     "output_type": "execute_result"
    }
   ],
   "source": [
    "Z"
   ]
  },
  {
   "cell_type": "code",
   "execution_count": null,
   "metadata": {},
   "outputs": [],
   "source": []
  }
 ],
 "metadata": {
  "kernelspec": {
   "display_name": "Python 3",
   "language": "python",
   "name": "python3"
  },
  "language_info": {
   "codemirror_mode": {
    "name": "ipython",
    "version": 3
   },
   "file_extension": ".py",
   "mimetype": "text/x-python",
   "name": "python",
   "nbconvert_exporter": "python",
   "pygments_lexer": "ipython3",
   "version": "3.6.8"
  }
 },
 "nbformat": 4,
 "nbformat_minor": 2
}
